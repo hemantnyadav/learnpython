{
  "nbformat": 4,
  "nbformat_minor": 0,
  "metadata": {
    "colab": {
      "name": "Day2",
      "provenance": []
    },
    "kernelspec": {
      "name": "python3",
      "display_name": "Python 3"
    }
  },
  "cells": [
    {
      "cell_type": "markdown",
      "metadata": {
        "id": "dlHV8cOk7GC0",
        "colab_type": "text"
      },
      "source": [
        "# **Day2**\n",
        "\n",
        "1.   Collections: List, tuples, Sets, dictionary \n",
        "3. Loop and conditional control\n",
        "4. Funtions \n",
        "\n",
        "\n",
        "**List** is a collection which is ordered and changeable. Allows duplicate members."
      ]
    },
    {
      "cell_type": "code",
      "metadata": {
        "id": "1c-f_nga7DK9",
        "colab_type": "code",
        "colab": {
          "base_uri": "https://localhost:8080/",
          "height": 72
        },
        "outputId": "25362178-1080-4c58-f932-93580fe3f73c"
      },
      "source": [
        "#All list are indexed starting from zero\n",
        "# Number elements\n",
        "intlist = [1,2,3]\n",
        "\n",
        "#String Element\n",
        "stringlist = ['apple', \"banana\", \"cherry\"]\n",
        "\n",
        "#Mix elements\n",
        "hybrid = [1,\"Apple\",2, 'H',2.3]\n",
        "\n",
        "print(intlist,\"--\",stringlist,\"--\",hybrid)\n",
        "\n",
        "# Accessing List element and elements\n",
        "# When Accessing range like list[start:end] \n",
        "# start index item is (included) and end index item is (not included).\n",
        "\n",
        "print(intlist[0],\"--\",intlist[1:3],\"--\",hybrid[-1],\"--\", stringlist[:2])\n",
        "\n",
        "#Change valuse of list\n",
        "hybrid[1] = \"Mango\"\n",
        "\n",
        "print(\"After update hybridlist: \",hybrid)"
      ],
      "execution_count": 80,
      "outputs": [
        {
          "output_type": "stream",
          "text": [
            "[1, 2, 3] -- ['apple', 'banana', 'cherry'] -- [1, 'Apple', 2, 'H', 2.3]\n",
            "1 -- [2, 3] -- 2.3 -- ['apple', 'banana']\n",
            "After update hybridlist:  [1, 'Mango', 2, 'H', 2.3]\n"
          ],
          "name": "stdout"
        }
      ]
    },
    {
      "cell_type": "markdown",
      "metadata": {
        "id": "vqFD5Ilfi4FY",
        "colab_type": "text"
      },
      "source": [
        "**Exerceise** \n",
        "\n",
        "1. Use only start index to select all elements from start index up to end.\n",
        "2. Use negative range to select last two elements.\n",
        "3. Update  floating point element of hybrid list with nearest number from intlist.\n",
        "\n",
        "\n"
      ]
    },
    {
      "cell_type": "code",
      "metadata": {
        "id": "QyyMSWB8i3R2",
        "colab_type": "code",
        "colab": {}
      },
      "source": [
        "#Exerceise\n",
        "\n",
        "#Todo: Use only start index to select all elements from start index up to end. Such as list[3:]\n",
        "\n",
        "#Todo: Use negative range to select last two elements. list[-3:-1]\n",
        "\n",
        "#Todo: Update float floating point element of hybrid list with nearest number from intlist. "
      ],
      "execution_count": 0,
      "outputs": []
    },
    {
      "cell_type": "markdown",
      "metadata": {
        "id": "5ivYXuyNkjb_",
        "colab_type": "text"
      },
      "source": [
        "**List functions**\n",
        "1. cmp(list1, list2)\n",
        "2. len(list)\n",
        "3. max(list)\n",
        "4. min(list)"
      ]
    },
    {
      "cell_type": "code",
      "metadata": {
        "id": "PUF-oq88lAkL",
        "colab_type": "code",
        "colab": {}
      },
      "source": [
        "# Exercise\n",
        "\n",
        "# Todo: compate list list1[1,2,3], list[1,2,3,4] and list[1,2,3]\n",
        "\n",
        "#Todo: find lenght of stringlist\n",
        "\n",
        "#Todo:Do summession of max and min of list1 and intlist"
      ],
      "execution_count": 0,
      "outputs": []
    },
    {
      "cell_type": "markdown",
      "metadata": {
        "id": "2cxmx5wrl0KP",
        "colab_type": "text"
      },
      "source": [
        "**List Methods**\n"
      ]
    },
    {
      "cell_type": "code",
      "metadata": {
        "id": "jkpwYU8Hly1G",
        "colab_type": "code",
        "colab": {
          "base_uri": "https://localhost:8080/",
          "height": 54
        },
        "outputId": "3c35336e-1514-4322-cae8-b4590063bb6b"
      },
      "source": [
        "# list.append(obj)\n",
        "print(\"Before append: \",intlist)\n",
        "intlist.append(\"New Element\")\n",
        "print(\"After append: \",intlist)"
      ],
      "execution_count": 83,
      "outputs": [
        {
          "output_type": "stream",
          "text": [
            "Before append:  [1, 2, 3, 'New Element']\n",
            "After append:  [1, 2, 3, 'New Element', 'New Element']\n"
          ],
          "name": "stdout"
        }
      ]
    },
    {
      "cell_type": "code",
      "metadata": {
        "id": "ocSF3N-ImS9Q",
        "colab_type": "code",
        "colab": {
          "base_uri": "https://localhost:8080/",
          "height": 35
        },
        "outputId": "37486745-f4e7-46cf-e77d-1ef9c3561a05"
      },
      "source": [
        "#list.count(obj)\n",
        "c = intlist.count(\"New Element\")\n",
        "print(c)"
      ],
      "execution_count": 84,
      "outputs": [
        {
          "output_type": "stream",
          "text": [
            "2\n"
          ],
          "name": "stdout"
        }
      ]
    },
    {
      "cell_type": "code",
      "metadata": {
        "id": "uA49wvFEmkjj",
        "colab_type": "code",
        "colab": {
          "base_uri": "https://localhost:8080/",
          "height": 35
        },
        "outputId": "f29b5622-0e1d-4c4a-fb9f-5845bb1dca16"
      },
      "source": [
        "#list.index(obj)\n",
        "\n",
        "print(intlist.index(\"New Element\"))"
      ],
      "execution_count": 18,
      "outputs": [
        {
          "output_type": "stream",
          "text": [
            "3\n"
          ],
          "name": "stdout"
        }
      ]
    },
    {
      "cell_type": "code",
      "metadata": {
        "id": "r1a4D3GWm2i9",
        "colab_type": "code",
        "colab": {
          "base_uri": "https://localhost:8080/",
          "height": 35
        },
        "outputId": "af990c78-c63c-404c-f16b-f1853a696330"
      },
      "source": [
        "#list.insert(index, obj)\n",
        "\n",
        "intlist.insert(3, \"Inserted\")\n",
        "print(intlist)"
      ],
      "execution_count": 85,
      "outputs": [
        {
          "output_type": "stream",
          "text": [
            "[1, 2, 3, 'Inserted', 'New Element', 'New Element']\n"
          ],
          "name": "stdout"
        }
      ]
    },
    {
      "cell_type": "markdown",
      "metadata": {
        "id": "Do6U6p33nTHg",
        "colab_type": "text"
      },
      "source": [
        "**Exercise**\n",
        "\n",
        "1. Use list.remove(obj) to remove \"New Element\" element from the intlist.\n",
        "2. Use list.remove(obj) to remove \"Inserted\" element from the intlist.\n",
        "3. Use list.reverse() to reverse intlist.\n",
        "4. Use list.sort() to sort intlist.\n"
      ]
    },
    {
      "cell_type": "markdown",
      "metadata": {
        "id": "K8Mxa3ygoEHu",
        "colab_type": "text"
      },
      "source": [
        "**Multi Dimentional List/ Nested list**\n",
        "\n",
        "Simply it is a list of list\n",
        "\n"
      ]
    },
    {
      "cell_type": "code",
      "metadata": {
        "id": "NHDDr6CNnQYp",
        "colab_type": "code",
        "colab": {
          "base_uri": "https://localhost:8080/",
          "height": 90
        },
        "outputId": "fa5bd463-9ea3-4d9d-bef5-a97ebc8a4aa9"
      },
      "source": [
        "a = [[1, 2, 3], [4, 5, 6]]\n",
        "print(a[0])\n",
        "print(a[1])\n",
        "b = a[0]\n",
        "print(b)\n",
        "print(a[0][2])"
      ],
      "execution_count": 86,
      "outputs": [
        {
          "output_type": "stream",
          "text": [
            "[1, 2, 3]\n",
            "[4, 5, 6]\n",
            "[1, 2, 3]\n",
            "3\n"
          ],
          "name": "stdout"
        }
      ]
    },
    {
      "cell_type": "markdown",
      "metadata": {
        "id": "wB_AvMydosKy",
        "colab_type": "text"
      },
      "source": [
        "**Tuple**\n",
        "\n",
        "A tuple is a collection which is ordered and unchangeable"
      ]
    },
    {
      "cell_type": "code",
      "metadata": {
        "id": "PI_iumUXo1BX",
        "colab_type": "code",
        "colab": {
          "base_uri": "https://localhost:8080/",
          "height": 54
        },
        "outputId": "39bf718e-7076-43c2-9aaf-4b1e2a8c8651"
      },
      "source": [
        "stringtuple = (\"apple\", \"banana\", \"cherry\")\n",
        "print(stringtuple)\n",
        "print(stringtuple[0])\n",
        "#stringtuple[0] = \"Mango\""
      ],
      "execution_count": 89,
      "outputs": [
        {
          "output_type": "stream",
          "text": [
            "('apple', 'banana', 'cherry')\n",
            "apple\n"
          ],
          "name": "stdout"
        }
      ]
    },
    {
      "cell_type": "code",
      "metadata": {
        "id": "sZG7ilJtpNGZ",
        "colab_type": "code",
        "colab": {}
      },
      "source": [
        "#Exerceise: Updating in tuple via list\n",
        "\n",
        "#Todo: Create tuple with 3 elements\n",
        "\n",
        "#Todo: Convert tuple to list using list(tuple_name) function\n",
        "\n",
        "#Todo: update elemement\n",
        "\n",
        "#todo: convert list to tuple using tuple(list_name) function"
      ],
      "execution_count": 0,
      "outputs": []
    },
    {
      "cell_type": "markdown",
      "metadata": {
        "id": "CiIN92vXqGi3",
        "colab_type": "text"
      },
      "source": [
        "## **sets**\n",
        "## A set is a collection which is unordered and unindexed. In Python sets are written with curly brackets."
      ]
    },
    {
      "cell_type": "code",
      "metadata": {
        "id": "LzQLbXtFqQtw",
        "colab_type": "code",
        "colab": {
          "base_uri": "https://localhost:8080/",
          "height": 54
        },
        "outputId": "744b8135-2c4f-47bc-fa97-f83ebe3fb25d"
      },
      "source": [
        "stringset = {\"apple\", \"banana\", \"cherry\"}\n",
        "print(stringset)\n",
        "\n",
        "#Add Items\n",
        "#To add one item to a set use the add() method.\n",
        "stringset.add(\"Mango\")\n",
        "#To add more than one item to a set use the update() method.\n",
        "stringset.update([1,2])\n",
        "\n",
        "print(stringset)"
      ],
      "execution_count": 90,
      "outputs": [
        {
          "output_type": "stream",
          "text": [
            "{'cherry', 'banana', 'apple'}\n",
            "{1, 'apple', 2, 'Mango', 'cherry', 'banana'}\n"
          ],
          "name": "stdout"
        }
      ]
    },
    {
      "cell_type": "markdown",
      "metadata": {
        "id": "mlntQjAsrkOG",
        "colab_type": "text"
      },
      "source": [
        "**Other useful methods on sets**\n",
        "1. stringset.difference()\n",
        "2. stringset.intersection()\n",
        "3. srtingset.remove()\n",
        "4. stringset.union()"
      ]
    },
    {
      "cell_type": "code",
      "metadata": {
        "id": "wIqh78Mbr6U4",
        "colab_type": "code",
        "colab": {}
      },
      "source": [
        "#Exercise\n",
        "\n",
        "#Todo: Create set1{1,2,3,4} and set2{2,3,4,5}\n",
        "\n",
        "#Todo: use set1.difference(set2) and write your observation\n",
        "\n",
        "#Todo: use set1.intersection(set2) and write your observation\n",
        "\n",
        "#Todo: use set.remove(element) to remove 4 from both sets\n",
        "\n",
        "#Todo: use set1.union(set2) and write your observation"
      ],
      "execution_count": 0,
      "outputs": []
    },
    {
      "cell_type": "markdown",
      "metadata": {
        "id": "yJZ9cImKtCLH",
        "colab_type": "text"
      },
      "source": [
        "**Dictionary**\n",
        "\n",
        "A dictionary is a collection which is unordered, changeable and indexed. In Python dictionaries are written with curly brackets, and they have keys and values."
      ]
    },
    {
      "cell_type": "code",
      "metadata": {
        "id": "1F5mvw-WtO3Z",
        "colab_type": "code",
        "colab": {
          "base_uri": "https://localhost:8080/",
          "height": 35
        },
        "outputId": "abcd91e9-8628-4611-bdc3-ca255d88ed50"
      },
      "source": [
        "cardict = {\n",
        "  \"brand\": \"Maruti\",\n",
        "  \"model\": \"Ignis\",\n",
        "  \"year\": 2015\n",
        "}\n",
        "print(cardict[\"model\"])"
      ],
      "execution_count": 44,
      "outputs": [
        {
          "output_type": "stream",
          "text": [
            "Ignis\n"
          ],
          "name": "stdout"
        }
      ]
    },
    {
      "cell_type": "code",
      "metadata": {
        "id": "gRS1NXaMuSV0",
        "colab_type": "code",
        "colab": {
          "base_uri": "https://localhost:8080/",
          "height": 35
        },
        "outputId": "613b5749-9ab0-4586-a451-a2efdbfd2794"
      },
      "source": [
        "cardict = {\n",
        "    \"car1\" : {\n",
        "  \"brand\": \"Maruti\",\n",
        "  \"model\": \"Ignis\",\n",
        "  \"year\": [2016,2019],\n",
        "  },\n",
        "   \"car2\": {\n",
        "  \"brand\": \"Maruti\",\n",
        "  \"model\": \"Baleno\",\n",
        "  \"year\": 2016\n",
        "  },\n",
        "   \"car3\" : {\n",
        "  \"brand\": \"Maruti\",\n",
        "  \"model\": \"Nexa\",\n",
        "  \"year\": 2020\n",
        "  },\n",
        "}\n",
        "print(cardict[\"car1\"])"
      ],
      "execution_count": 53,
      "outputs": [
        {
          "output_type": "stream",
          "text": [
            "{'brand': 'Maruti', 'model': 'Ignis', 'year': 2015}\n"
          ],
          "name": "stdout"
        }
      ]
    },
    {
      "cell_type": "markdown",
      "metadata": {
        "id": "bl4kPjujvOxH",
        "colab_type": "text"
      },
      "source": [
        "### **Loop and Conditional Control**\n",
        "Python supports\n",
        "\n",
        "if statement \n",
        "\n",
        "if..else statement\n",
        "\n",
        "and nested if statment\n"
      ]
    },
    {
      "cell_type": "code",
      "metadata": {
        "id": "Agvf4aP7vxYM",
        "colab_type": "code",
        "colab": {
          "base_uri": "https://localhost:8080/",
          "height": 135
        },
        "outputId": "a9df6f99-13ca-4c67-81b6-493c3b6d0ac1"
      },
      "source": [
        "#Simple if\n",
        "var = 100\n",
        "if( var != 100):\n",
        "  print(\"Value of expression is 100\")\n",
        "print( \"Good bye!\")"
      ],
      "execution_count": 93,
      "outputs": [
        {
          "output_type": "error",
          "ename": "IndentationError",
          "evalue": "ignored",
          "traceback": [
            "\u001b[0;36m  File \u001b[0;32m\"<ipython-input-93-cb4df88b64b2>\"\u001b[0;36m, line \u001b[0;32m5\u001b[0m\n\u001b[0;31m    print(\"Value of expression is 100\")\u001b[0m\n\u001b[0m        ^\u001b[0m\n\u001b[0;31mIndentationError\u001b[0m\u001b[0;31m:\u001b[0m expected an indented block\n"
          ]
        }
      ]
    },
    {
      "cell_type": "code",
      "metadata": {
        "id": "7O0GWLpKwK9F",
        "colab_type": "code",
        "colab": {
          "base_uri": "https://localhost:8080/",
          "height": 35
        },
        "outputId": "ed028d50-7e60-4bb4-dab8-328c2d3c68b4"
      },
      "source": [
        "#Simple if else\n",
        "\n",
        "var = 100\n",
        "if ( var != 100 ) : \n",
        "  print(\"Value of expression is 100\")\n",
        "else:  \n",
        "  print(\"Good bye!\")"
      ],
      "execution_count": 94,
      "outputs": [
        {
          "output_type": "stream",
          "text": [
            "Good bye!\n"
          ],
          "name": "stdout"
        }
      ]
    },
    {
      "cell_type": "code",
      "metadata": {
        "id": "HwOC2GsnwUgN",
        "colab_type": "code",
        "colab": {}
      },
      "source": [
        "#Exercise\n",
        "\n",
        "#Todo: initialize three variables a,b,c\n",
        "\n",
        "#Todo: use nested if to find max of a,b,c and output max  value.\n",
        "\n"
      ],
      "execution_count": 0,
      "outputs": []
    },
    {
      "cell_type": "markdown",
      "metadata": {
        "id": "GcjO3lzuxB6B",
        "colab_type": "text"
      },
      "source": [
        "**elif** if else ladder"
      ]
    },
    {
      "cell_type": "code",
      "metadata": {
        "id": "X-tBi0hHxATg",
        "colab_type": "code",
        "colab": {
          "base_uri": "https://localhost:8080/",
          "height": 35
        },
        "outputId": "4eb34e1e-a7c7-4604-8c09-3e9dd9ddf71a"
      },
      "source": [
        "a = 200\n",
        "b = 33\n",
        "if b > a:\n",
        "  print(\"b is greater than a\")\n",
        "elif a == b:\n",
        "  print(\"a and b are equal\")\n",
        "else:\n",
        "  print(\"a is greater than b\")"
      ],
      "execution_count": 63,
      "outputs": [
        {
          "output_type": "stream",
          "text": [
            "a is greater than b\n"
          ],
          "name": "stdout"
        }
      ]
    },
    {
      "cell_type": "markdown",
      "metadata": {
        "id": "AKv9ZhdwxP7o",
        "colab_type": "text"
      },
      "source": [
        "**shorthand if**"
      ]
    },
    {
      "cell_type": "code",
      "metadata": {
        "id": "XuqAE5uvxTZO",
        "colab_type": "code",
        "colab": {
          "base_uri": "https://localhost:8080/",
          "height": 35
        },
        "outputId": "13ea742d-7a02-4fb6-fe38-cf4e38fbff7e"
      },
      "source": [
        "a = 2\n",
        "b = 330\n",
        "print(\"A\") if a > b else print(\"B\")"
      ],
      "execution_count": 96,
      "outputs": [
        {
          "output_type": "stream",
          "text": [
            "B\n"
          ],
          "name": "stdout"
        }
      ]
    },
    {
      "cell_type": "markdown",
      "metadata": {
        "id": "luW5RW7exhGo",
        "colab_type": "text"
      },
      "source": [
        "**The pass Statement**\n",
        "\n",
        "if statements cannot be empty, but if you for some reason have an if statement with no content, put in the pass statement to avoid getting an error."
      ]
    },
    {
      "cell_type": "code",
      "metadata": {
        "id": "pzW2SCnAxk_V",
        "colab_type": "code",
        "colab": {
          "base_uri": "https://localhost:8080/",
          "height": 135
        },
        "outputId": "59d44eb6-8909-4237-aa9e-0aca6cd20988"
      },
      "source": [
        "a = 33\n",
        "b = 200\n",
        "\n",
        "if b > a:\n",
        "  pass"
      ],
      "execution_count": 97,
      "outputs": [
        {
          "output_type": "error",
          "ename": "SyntaxError",
          "evalue": "ignored",
          "traceback": [
            "\u001b[0;36m  File \u001b[0;32m\"<ipython-input-97-5e9622acda8c>\"\u001b[0;36m, line \u001b[0;32m5\u001b[0m\n\u001b[0;31m    #pass\u001b[0m\n\u001b[0m         ^\u001b[0m\n\u001b[0;31mSyntaxError\u001b[0m\u001b[0;31m:\u001b[0m unexpected EOF while parsing\n"
          ]
        }
      ]
    },
    {
      "cell_type": "markdown",
      "metadata": {
        "id": "ByqYfOwHxtYE",
        "colab_type": "text"
      },
      "source": [
        "**if With list**"
      ]
    },
    {
      "cell_type": "code",
      "metadata": {
        "id": "BjVHqCvnxsrp",
        "colab_type": "code",
        "colab": {
          "base_uri": "https://localhost:8080/",
          "height": 35
        },
        "outputId": "22547345-7c03-4a21-bd56-0231a6d1d6e6"
      },
      "source": [
        "if 1 in intlist:\n",
        "  print(\"OK\")"
      ],
      "execution_count": 99,
      "outputs": [
        {
          "output_type": "stream",
          "text": [
            "OK\n"
          ],
          "name": "stdout"
        }
      ]
    },
    {
      "cell_type": "markdown",
      "metadata": {
        "id": "3L4Wi-yUyXjN",
        "colab_type": "text"
      },
      "source": [
        "**Python Loops**\n",
        "\n",
        "Python has two primitive loop commands:\n",
        "\n",
        "while loops\n",
        "\n",
        "\n",
        "for loops"
      ]
    },
    {
      "cell_type": "code",
      "metadata": {
        "id": "xJ4UdI1Jyhhf",
        "colab_type": "code",
        "colab": {
          "base_uri": "https://localhost:8080/",
          "height": 108
        },
        "outputId": "2bf7b13a-c93c-4d01-ae85-d3c7d44e25b7"
      },
      "source": [
        "# While loop\n",
        "i = 1\n",
        "while i < 6:\n",
        "  print(i)\n",
        "  i += 1"
      ],
      "execution_count": 100,
      "outputs": [
        {
          "output_type": "stream",
          "text": [
            "1\n",
            "2\n",
            "3\n",
            "4\n",
            "5\n"
          ],
          "name": "stdout"
        }
      ]
    },
    {
      "cell_type": "code",
      "metadata": {
        "id": "DtG2t9TxyqrB",
        "colab_type": "code",
        "colab": {
          "base_uri": "https://localhost:8080/",
          "height": 126
        },
        "outputId": "52e585f6-48af-4c42-9247-a8418edc4d87"
      },
      "source": [
        "# else statement\n",
        "i = 1\n",
        "while i < 6:\n",
        "  print(i)\n",
        "  i += 1\n",
        "else:\n",
        "  print(\"i is no longer less than 6\")"
      ],
      "execution_count": 101,
      "outputs": [
        {
          "output_type": "stream",
          "text": [
            "1\n",
            "2\n",
            "3\n",
            "4\n",
            "5\n",
            "i is no longer less than 6\n"
          ],
          "name": "stdout"
        }
      ]
    },
    {
      "cell_type": "markdown",
      "metadata": {
        "id": "hgV_qqz2y2zs",
        "colab_type": "text"
      },
      "source": [
        "**Python For Loops**\n",
        "\n",
        "A for loop is used for iterating over a sequence (that is either a list, a tuple, a dictionary, a set, or a string)."
      ]
    },
    {
      "cell_type": "code",
      "metadata": {
        "id": "cUJbky1Ty-VT",
        "colab_type": "code",
        "colab": {
          "base_uri": "https://localhost:8080/",
          "height": 72
        },
        "outputId": "6e68a37c-9f88-481a-f607-b25af5566833"
      },
      "source": [
        "fruits = [\"apple\", \"banana\", \"cherry\"]\n",
        "for x in fruits:\n",
        "  print(x)"
      ],
      "execution_count": 102,
      "outputs": [
        {
          "output_type": "stream",
          "text": [
            "apple\n",
            "banana\n",
            "cherry\n"
          ],
          "name": "stdout"
        }
      ]
    },
    {
      "cell_type": "markdown",
      "metadata": {
        "id": "7zPjhD8zze_E",
        "colab_type": "text"
      },
      "source": [
        "**Looping Through a String**"
      ]
    },
    {
      "cell_type": "code",
      "metadata": {
        "id": "uabebw6xzhU1",
        "colab_type": "code",
        "colab": {
          "base_uri": "https://localhost:8080/",
          "height": 126
        },
        "outputId": "848a14a9-7537-4415-ae26-c6e8e9c8c08d"
      },
      "source": [
        "for x in \"banana\":\n",
        "  \n",
        "  print(x)"
      ],
      "execution_count": 103,
      "outputs": [
        {
          "output_type": "stream",
          "text": [
            "b\n",
            "a\n",
            "n\n",
            "a\n",
            "n\n",
            "a\n"
          ],
          "name": "stdout"
        }
      ]
    },
    {
      "cell_type": "markdown",
      "metadata": {
        "id": "yQQWyXD2znJG",
        "colab_type": "text"
      },
      "source": [
        "**Exercise:**\n",
        "\n",
        "Use break statement t break loop if value if bannana"
      ]
    },
    {
      "cell_type": "code",
      "metadata": {
        "id": "rQZfF5_fzyO9",
        "colab_type": "code",
        "colab": {}
      },
      "source": [
        "#Exercise:\n",
        "\n",
        "#Todo: create list of fruit names\n",
        "\n",
        "#Todo: use loop to print all fruit names\n",
        "\n",
        "#Todo: Use break to skip priting after bannana"
      ],
      "execution_count": 0,
      "outputs": []
    },
    {
      "cell_type": "markdown",
      "metadata": {
        "id": "ONgoEMSo0UhQ",
        "colab_type": "text"
      },
      "source": [
        "**Exercise:**\n",
        "\n",
        "The continue Statement\n",
        "\n",
        "With the continue statement we can stop the current iteration of the loop, and continue with the next:\n",
        "\n",
        "Use continue statment to skip printing of bannana values"
      ]
    },
    {
      "cell_type": "code",
      "metadata": {
        "id": "HDMB5vMs0hkE",
        "colab_type": "code",
        "colab": {}
      },
      "source": [
        "#Exercise:\n",
        "\n",
        "#Todo: create list of fruit names\n",
        "\n",
        "#Todo: use loop to print all fruit names\n",
        "\n",
        "#Todo: Use continue to skip priting  bannana value"
      ],
      "execution_count": 0,
      "outputs": []
    },
    {
      "cell_type": "markdown",
      "metadata": {
        "id": "ad8CH84I0qKR",
        "colab_type": "text"
      },
      "source": [
        "**Range Function**"
      ]
    },
    {
      "cell_type": "code",
      "metadata": {
        "id": "4PtzEru-0oro",
        "colab_type": "code",
        "colab": {
          "base_uri": "https://localhost:8080/",
          "height": 72
        },
        "outputId": "93558865-c4bf-4b1f-8605-a941520f98ac"
      },
      "source": [
        "for x in range(4,10,2):\n",
        "  print(x)"
      ],
      "execution_count": 106,
      "outputs": [
        {
          "output_type": "stream",
          "text": [
            "4\n",
            "6\n",
            "8\n"
          ],
          "name": "stdout"
        }
      ]
    },
    {
      "cell_type": "markdown",
      "metadata": {
        "id": "SDLzKdow1Dct",
        "colab_type": "text"
      },
      "source": [
        "**Else in a loop**"
      ]
    },
    {
      "cell_type": "code",
      "metadata": {
        "id": "hFVuLQ741Fqv",
        "colab_type": "code",
        "colab": {
          "base_uri": "https://localhost:8080/",
          "height": 145
        },
        "outputId": "624e517e-15cd-4daf-aa27-d5f4281094db"
      },
      "source": [
        "for x in range(6):\n",
        "  print(x)\n",
        "else:\n",
        "  print(\"Finally finished!\")"
      ],
      "execution_count": 78,
      "outputs": [
        {
          "output_type": "stream",
          "text": [
            "0\n",
            "1\n",
            "2\n",
            "3\n",
            "4\n",
            "5\n",
            "Finally finished!\n"
          ],
          "name": "stdout"
        }
      ]
    },
    {
      "cell_type": "code",
      "metadata": {
        "id": "cKrrGIEuPuN_",
        "colab_type": "code",
        "colab": {
          "base_uri": "https://localhost:8080/",
          "height": 35
        },
        "outputId": "18ddc806-3b96-497d-efb5-0c2368752d36"
      },
      "source": [
        "print(myfunction2(3))"
      ],
      "execution_count": 118,
      "outputs": [
        {
          "output_type": "stream",
          "text": [
            "4\n"
          ],
          "name": "stdout"
        }
      ]
    },
    {
      "cell_type": "code",
      "metadata": {
        "id": "WLuowd9LRSDS",
        "colab_type": "code",
        "colab": {}
      },
      "source": [
        ""
      ],
      "execution_count": 0,
      "outputs": []
    },
    {
      "cell_type": "code",
      "metadata": {
        "id": "6KKe6YZjO_aK",
        "colab_type": "code",
        "colab": {}
      },
      "source": [
        "def myfunction2(a):\n",
        "  b = a+1\n",
        "  return b\n",
        "  \n",
        "#print(myfunction2(5))"
      ],
      "execution_count": 0,
      "outputs": []
    },
    {
      "cell_type": "code",
      "metadata": {
        "id": "40aV0AXtPP9Q",
        "colab_type": "code",
        "colab": {
          "base_uri": "https://localhost:8080/",
          "height": 35
        },
        "outputId": "51034a3b-b5e9-4e7b-de9c-099cddf776ec"
      },
      "source": [
        "print(myfunction1(6))"
      ],
      "execution_count": 113,
      "outputs": [
        {
          "output_type": "stream",
          "text": [
            "7\n"
          ],
          "name": "stdout"
        }
      ]
    }
  ]
}