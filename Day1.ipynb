{
  "nbformat": 4,
  "nbformat_minor": 0,
  "metadata": {
    "colab": {
      "name": "Day1.ipynb",
      "provenance": []
    },
    "kernelspec": {
      "name": "python3",
      "display_name": "Python 3"
    }
  },
  "cells": [
    {
      "cell_type": "markdown",
      "metadata": {
        "id": "w7v2fmo8Sf3X",
        "colab_type": "text"
      },
      "source": [
        "## **Workshop on Python Programming for Beginners**\n",
        "### **26/5/2020**\n",
        "Python background\n",
        "\n",
        "editors\n",
        "\n",
        "compilers\n",
        "\n",
        "print\n",
        "\n",
        "varibles\n",
        "\n",
        "operators\n",
        "\n",
        "\n"
      ]
    },
    {
      "cell_type": "markdown",
      "metadata": {
        "id": "F3YlYJ9tTGaQ",
        "colab_type": "text"
      },
      "source": [
        "### **Simple Print**"
      ]
    },
    {
      "cell_type": "code",
      "metadata": {
        "id": "yyWjFV5QOItY",
        "colab_type": "code",
        "outputId": "b296e664-293e-46ac-d14d-451a53ef78b5",
        "colab": {
          "base_uri": "https://localhost:8080/",
          "height": 87
        }
      },
      "source": [
        "\n",
        "print(\"10\")\n",
        "print(10)\n",
        "a = 100\n",
        "v = \"Hemant\"\n",
        "print(v[0:2])\n",
        "v = 'c'\n",
        "#Comment is python\n",
        "print(\"Division\",4/2,\"This is float\", 6)"
      ],
      "execution_count": 0,
      "outputs": [
        {
          "output_type": "stream",
          "text": [
            "10\n",
            "10\n",
            "He\n",
            "Division 2.0 This is float 6\n"
          ],
          "name": "stdout"
        }
      ]
    },
    {
      "cell_type": "markdown",
      "metadata": {
        "id": "-q6oW6IQU-b-",
        "colab_type": "text"
      },
      "source": [
        "**Exercise**: \n",
        "\n",
        "Exponentiation:  . This operator raises the number to its left to the power \n",
        "of the number to its right.\n",
        "\n",
        "For example 4 * * 2 will give 16.\n",
        "\n",
        "Modulo: %. This operator returns the remainder of the division of \n",
        "the number to the left by the number on its right.\n",
        "\n",
        "For example 18 % 7 equals 4\n"
      ]
    },
    {
      "cell_type": "code",
      "metadata": {
        "id": "a5161G-oVlMw",
        "colab_type": "code",
        "outputId": "bcffdc49-c85f-42e6-cb21-2253dcc1c95e",
        "colab": {
          "base_uri": "https://localhost:8080/",
          "height": 52
        }
      },
      "source": [
        "#Example: Addition, subtraction\n",
        "print(5 + 5)\n",
        "print(5 - 5)\n",
        "\n",
        "#ToDo: Multiplication, division, modulo, and exponentiation\n",
        "\n"
      ],
      "execution_count": 0,
      "outputs": [
        {
          "output_type": "stream",
          "text": [
            "10\n",
            "0\n"
          ],
          "name": "stdout"
        }
      ]
    },
    {
      "cell_type": "markdown",
      "metadata": {
        "id": "pb0PaBTyWIxF",
        "colab_type": "text"
      },
      "source": [
        "**Exercise**\n",
        "Suppose you have Rs. 100, which you can invest with a 10% return each year. After one year, it's 100×1.1=110 Rupee, and after two years it's 100×1.1×1.1=121. \n",
        "\n",
        "Add code to calculate how much money you end up with after 7 years, and print the result."
      ]
    },
    {
      "cell_type": "markdown",
      "metadata": {
        "id": "59ShletpW1iW",
        "colab_type": "text"
      },
      "source": [
        "### **Variables and Types**\n",
        "Python is completely object oriented, and not \"statically typed\". You do not need to declare variables before using them, or declare their type. Every variable in Python is an object.\n",
        "\n",
        "**Numbers**\n",
        "Python supports two types of numbers - integers and floating point numbers. (It also supports complex numbers, which will not be explained in this tutorial).\n",
        "\n"
      ]
    },
    {
      "cell_type": "code",
      "metadata": {
        "id": "fObWvqwSXlAc",
        "colab_type": "code",
        "outputId": "175ed204-e681-4ee4-aa82-833f892053d3",
        "colab": {
          "base_uri": "https://localhost:8080/",
          "height": 69
        }
      },
      "source": [
        "#Integers\n",
        "myint = 7\n",
        "print(myint)\n",
        "\n",
        "#Floating Point\n",
        "myfloat = 7.0\n",
        "print(myfloat)\n",
        "myfloat = float(myint)\n",
        "print(myfloat)"
      ],
      "execution_count": 0,
      "outputs": [
        {
          "output_type": "stream",
          "text": [
            "7\n",
            "7.0\n",
            "7.0\n"
          ],
          "name": "stdout"
        }
      ]
    },
    {
      "cell_type": "markdown",
      "metadata": {
        "id": "5VWC5WX-YtDl",
        "colab_type": "text"
      },
      "source": [
        "**Strings**\n",
        "Strings are defined either with a single quote or a double quotes."
      ]
    },
    {
      "cell_type": "code",
      "metadata": {
        "id": "2y_amU0yYxAt",
        "colab_type": "code",
        "outputId": "18ce6787-9cf9-4cc6-f5a6-5673a4d86d2b",
        "colab": {
          "base_uri": "https://localhost:8080/",
          "height": 52
        }
      },
      "source": [
        "mystring = 'hello'\n",
        "print(mystring)\n",
        "mystring = \"hello\"\n",
        "print(mystring)"
      ],
      "execution_count": 0,
      "outputs": [
        {
          "output_type": "stream",
          "text": [
            "hello\n",
            "hello\n"
          ],
          "name": "stdout"
        }
      ]
    },
    {
      "cell_type": "markdown",
      "metadata": {
        "id": "vPpm4uAIZEtw",
        "colab_type": "text"
      },
      "source": [
        "**Simple Operations on  numbers and string**"
      ]
    },
    {
      "cell_type": "code",
      "metadata": {
        "id": "nywjEqW1ZDUB",
        "colab_type": "code",
        "outputId": "5cd0668e-7523-4e3a-9608-460c7fb828dc",
        "colab": {
          "base_uri": "https://localhost:8080/",
          "height": 52
        }
      },
      "source": [
        "one = 1\n",
        "two = 2\n",
        "three = one + two\n",
        "print(three)\n",
        "\n",
        "hello = \"hello\" * 10\n",
        "world = \"world\"\n",
        "helloworld = hello + \" \" + world \n",
        "print(helloworld)"
      ],
      "execution_count": 0,
      "outputs": [
        {
          "output_type": "stream",
          "text": [
            "3\n",
            "hellohellohellohellohellohellohellohellohellohello world\n"
          ],
          "name": "stdout"
        }
      ]
    },
    {
      "cell_type": "markdown",
      "metadata": {
        "id": "t8serzWgZga6",
        "colab_type": "text"
      },
      "source": [
        "**Assignment**"
      ]
    },
    {
      "cell_type": "code",
      "metadata": {
        "id": "7yIdz3ziZkdH",
        "colab_type": "code",
        "colab": {}
      },
      "source": [
        "# Multiple varibles in single line\n",
        "a, b, c = 3, 4 , 5"
      ],
      "execution_count": 0,
      "outputs": []
    },
    {
      "cell_type": "markdown",
      "metadata": {
        "id": "lrpvacTdZ29m",
        "colab_type": "text"
      },
      "source": [
        "**Printing with data types**"
      ]
    },
    {
      "cell_type": "code",
      "metadata": {
        "id": "aFpKGUXOZ1uK",
        "colab_type": "code",
        "outputId": "2168f135-4086-4102-a949-01a763770877",
        "colab": {
          "base_uri": "https://localhost:8080/",
          "height": 35
        }
      },
      "source": [
        "print(\"Integer: %d\" % 5)"
      ],
      "execution_count": 0,
      "outputs": [
        {
          "output_type": "stream",
          "text": [
            "Integer: 5\n"
          ],
          "name": "stdout"
        }
      ]
    },
    {
      "cell_type": "code",
      "metadata": {
        "id": "NYUf4YwzZ9cL",
        "colab_type": "code",
        "outputId": "3a372fef-24c6-4adb-b45f-310190f65e65",
        "colab": {
          "base_uri": "https://localhost:8080/",
          "height": 35
        }
      },
      "source": [
        "print(\"String: %s\" % \"Ok\")"
      ],
      "execution_count": 0,
      "outputs": [
        {
          "output_type": "stream",
          "text": [
            "String: Ok\n"
          ],
          "name": "stdout"
        }
      ]
    },
    {
      "cell_type": "code",
      "metadata": {
        "id": "fEFJIUxRaEiJ",
        "colab_type": "code",
        "outputId": "a5f6a24c-41b1-4beb-a3c4-d70944d00ffb",
        "colab": {
          "base_uri": "https://localhost:8080/",
          "height": 35
        }
      },
      "source": [
        "print(\"Float: %2.2f\" % 4.343433)"
      ],
      "execution_count": 0,
      "outputs": [
        {
          "output_type": "stream",
          "text": [
            "Float: 4.34\n"
          ],
          "name": "stdout"
        }
      ]
    },
    {
      "cell_type": "markdown",
      "metadata": {
        "id": "uWz3Em-6ajm1",
        "colab_type": "text"
      },
      "source": [
        "**Exercise**\n",
        "\n",
        "Create a variable savings with the value 100.\n",
        "Check out this variable by typing print(savings) in the script."
      ]
    },
    {
      "cell_type": "markdown",
      "metadata": {
        "id": "G2z9PSnvbjar",
        "colab_type": "text"
      },
      "source": [
        "**Exercise:**\n",
        "Create a variable growth_multiplier, equal to 1.1.\n",
        "Create a variable, result, equal to the amount of money you saved after 7 years.\n",
        "Print out the value of result."
      ]
    },
    {
      "cell_type": "code",
      "metadata": {
        "id": "X9fQnh9_bway",
        "colab_type": "code",
        "colab": {}
      },
      "source": [
        "# Create a variable savings\n",
        "savings = 100\n",
        "\n",
        "# Todo: Create a variable growth_multiplier\n",
        "\n",
        "\n",
        "# Todo: Calculate result\n",
        "\n",
        "\n",
        "# Todo: Print out result"
      ],
      "execution_count": 0,
      "outputs": []
    },
    {
      "cell_type": "markdown",
      "metadata": {
        "id": "Gb6yCjA0cG15",
        "colab_type": "text"
      },
      "source": [
        "**Exercise:(String and Boolean)**\n",
        "Create a new string, desc, with the value \"compound interest\".\n",
        "Create a new boolean, profitable, with the value True"
      ]
    },
    {
      "cell_type": "code",
      "metadata": {
        "id": "5Un2hQ8HcSu_",
        "colab_type": "code",
        "outputId": "35bbfd69-b5dd-4754-c39f-c9680cad991a",
        "colab": {
          "base_uri": "https://localhost:8080/",
          "height": 52
        }
      },
      "source": [
        "# Todo: Create a variable desc\n",
        "\n",
        "\n",
        "# Create a variable profitable\n",
        "profitable = False\n",
        "print(profitable)\n",
        "print(type(profitable))"
      ],
      "execution_count": 0,
      "outputs": [
        {
          "output_type": "stream",
          "text": [
            "False\n",
            "<class 'bool'>\n"
          ],
          "name": "stdout"
        }
      ]
    },
    {
      "cell_type": "markdown",
      "metadata": {
        "id": "huUyoWECda0J",
        "colab_type": "text"
      },
      "source": [
        "**Exercise**:\n",
        "\n",
        "Calculate the product of savings and growth_multiplier. \n",
        "\n",
        "Store the result in year1.\n",
        "\n",
        "What do you think the resulting type will be? Find out by printing out the type of year1.\n",
        "\n",
        "Calculate the sum of desc and desc and store the result in a new variable doubledesc.\n",
        "\n",
        "Print out doubledesc."
      ]
    },
    {
      "cell_type": "code",
      "metadata": {
        "id": "11njqDdcdqHk",
        "colab_type": "code",
        "colab": {}
      },
      "source": [
        "savings = 100\n",
        "growth_multiplier = 1.1\n",
        "desc = \"compound interest\"\n",
        "\n",
        "# Assign product of growth_multiplier and savings to year1\n",
        "\n",
        "\n",
        "# Print the type of year1"
      ],
      "execution_count": 0,
      "outputs": []
    },
    {
      "cell_type": "markdown",
      "metadata": {
        "id": "dGNg8nL3dsjC",
        "colab_type": "text"
      },
      "source": [
        " **Type Conversion**\n",
        "\n",
        " str(), int(), float() and bool() will help you convert Python values into any type."
      ]
    },
    {
      "cell_type": "markdown",
      "metadata": {
        "id": "3MAss22oeO2v",
        "colab_type": "text"
      },
      "source": [
        "Run Code below. Try to understand the error message.\n",
        "\n",
        "Fix the code such that the printout runs without errors; use the function str() to convert the variables to strings.\n",
        "\n",
        "Convert the variable pi_string to a float and store this float as a new variable, pi_float\n"
      ]
    },
    {
      "cell_type": "code",
      "metadata": {
        "id": "YiGVGI7_eN2L",
        "colab_type": "code",
        "outputId": "a0dc3cd4-1ad9-45ef-f383-402efd18befd",
        "colab": {
          "base_uri": "https://localhost:8080/",
          "height": 235
        }
      },
      "source": [
        "# Definition of savings and result\n",
        "savings = 100\n",
        "result = 100 * 1.10 ** 7\n",
        "\n",
        "# Fix the printout\n",
        "print(\"I started with \" + (savings) + \" and now have \" + result + \". Awesome!\")\n",
        "\n",
        "# Definition of pi_string\n",
        "pi_string = \"3.1415926\""
      ],
      "execution_count": 0,
      "outputs": [
        {
          "output_type": "error",
          "ename": "TypeError",
          "evalue": "ignored",
          "traceback": [
            "\u001b[0;31m---------------------------------------------------------------------------\u001b[0m",
            "\u001b[0;31mTypeError\u001b[0m                                 Traceback (most recent call last)",
            "\u001b[0;32m<ipython-input-38-68f22b1c277c>\u001b[0m in \u001b[0;36m<module>\u001b[0;34m()\u001b[0m\n\u001b[1;32m      4\u001b[0m \u001b[0;34m\u001b[0m\u001b[0m\n\u001b[1;32m      5\u001b[0m \u001b[0;31m# Fix the printout\u001b[0m\u001b[0;34m\u001b[0m\u001b[0;34m\u001b[0m\u001b[0;34m\u001b[0m\u001b[0m\n\u001b[0;32m----> 6\u001b[0;31m \u001b[0mprint\u001b[0m\u001b[0;34m(\u001b[0m\u001b[0;34m\"I started with \"\u001b[0m \u001b[0;34m+\u001b[0m \u001b[0msavings\u001b[0m \u001b[0;34m+\u001b[0m \u001b[0;34m\" and now have \"\u001b[0m \u001b[0;34m+\u001b[0m \u001b[0mresult\u001b[0m \u001b[0;34m+\u001b[0m \u001b[0;34m\". Awesome!\"\u001b[0m\u001b[0;34m)\u001b[0m\u001b[0;34m\u001b[0m\u001b[0;34m\u001b[0m\u001b[0m\n\u001b[0m\u001b[1;32m      7\u001b[0m \u001b[0;34m\u001b[0m\u001b[0m\n\u001b[1;32m      8\u001b[0m \u001b[0;31m# Definition of pi_string\u001b[0m\u001b[0;34m\u001b[0m\u001b[0;34m\u001b[0m\u001b[0;34m\u001b[0m\u001b[0m\n",
            "\u001b[0;31mTypeError\u001b[0m: must be str, not int"
          ]
        }
      ]
    }
  ]
}