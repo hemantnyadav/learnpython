{
  "nbformat": 4,
  "nbformat_minor": 0,
  "metadata": {
    "colab": {
      "name": "Day4",
      "provenance": []
    },
    "kernelspec": {
      "name": "python3",
      "display_name": "Python 3"
    }
  },
  "cells": [
    {
      "cell_type": "markdown",
      "metadata": {
        "id": "Kz8NeXLMuDbs",
        "colab_type": "text"
      },
      "source": [
        "# **Numpy**\n",
        "Numerical Python\n",
        "\n",
        "It is a Python package creating and processing numeric arrays.\n",
        "\n",
        "**Why Numpy?**\n",
        "\n",
        "1. NumPy vs Lists (speed, functionality)\n",
        "\n",
        "- Contimuous memory\n",
        "\n",
        "- Less memory\n",
        "\n",
        "- Built in functionalities\n",
        "\n",
        "2. Applications of NumPy\n",
        "- Mathematics\n",
        "- Vector Processing\n",
        "- Image procession\n",
        "- Backend\n",
        "- Machine Leanign\n",
        "\n",
        "....\n",
        "\n"
      ]
    },
    {
      "cell_type": "markdown",
      "metadata": {
        "id": "yl22k60rWzff",
        "colab_type": "text"
      },
      "source": [
        "install and import\n",
        "\n",
        "How to create and initialize?\n",
        "\n",
        "Working with Images\n",
        "\n",
        "Accessing, indexing, Slicing, Masking"
      ]
    },
    {
      "cell_type": "markdown",
      "metadata": {
        "id": "9ROrvFhV2KEK",
        "colab_type": "text"
      },
      "source": [
        "**Install and Import**"
      ]
    },
    {
      "cell_type": "code",
      "metadata": {
        "id": "TpASvQiM2OC_",
        "colab_type": "code",
        "colab": {}
      },
      "source": [
        "#if not installed numpy\n",
        "#!pip install numpy\n",
        "\n",
        "#import\n",
        "import numpy as np"
      ],
      "execution_count": 0,
      "outputs": []
    },
    {
      "cell_type": "markdown",
      "metadata": {
        "id": "2eYyr_re2g45",
        "colab_type": "text"
      },
      "source": [
        "**Creating Numpy Array**"
      ]
    },
    {
      "cell_type": "code",
      "metadata": {
        "id": "NEspA4_t2kec",
        "colab_type": "code",
        "colab": {
          "base_uri": "https://localhost:8080/",
          "height": 35
        },
        "outputId": "b05f822c-1542-49fc-92b4-0337a18817a1"
      },
      "source": [
        "#Simple 1D array\n",
        "a = np.array([2,3,4])\n",
        "b = np.array([1.2, 3.5, 5.1])\n",
        "\n",
        "print(a,a.dtype,b, b.dtype)\n",
        "\n",
        "#a = np.array(1,2,3,4)    # WRONG"
      ],
      "execution_count": 53,
      "outputs": [
        {
          "output_type": "stream",
          "text": [
            "[2 3 4] int64 [1.2 3.5 5.1] float64\n"
          ],
          "name": "stdout"
        }
      ]
    },
    {
      "cell_type": "code",
      "metadata": {
        "id": "K-G_zpRa3WxH",
        "colab_type": "code",
        "colab": {
          "base_uri": "https://localhost:8080/",
          "height": 54
        },
        "outputId": "0478cfb1-f474-424f-b557-66d13082b188"
      },
      "source": [
        "#Specify Data type\n",
        "c = np.array( [2,3,4] )\n",
        "print(c,c.dtype)\n",
        "c = np.array( [2,3,4], dtype=\"int32\" )\n",
        "#c = np.array( [2,3,4], dtype=np.int16 )\n",
        "print(c,c.dtype)"
      ],
      "execution_count": 54,
      "outputs": [
        {
          "output_type": "stream",
          "text": [
            "[2 3 4] int64\n",
            "[2 3 4] int32\n"
          ],
          "name": "stdout"
        }
      ]
    },
    {
      "cell_type": "code",
      "metadata": {
        "id": "4dTTcADY4JR3",
        "colab_type": "code",
        "colab": {
          "base_uri": "https://localhost:8080/",
          "height": 54
        },
        "outputId": "e3fd9c12-8e33-4430-82c8-bcf9333d5bc0"
      },
      "source": [
        "# Two dimentional Array\n",
        "c = np.array([[1,2],[3,4]])\n",
        "print(c)"
      ],
      "execution_count": 55,
      "outputs": [
        {
          "output_type": "stream",
          "text": [
            "[[1 2]\n",
            " [3 4]]\n"
          ],
          "name": "stdout"
        }
      ]
    },
    {
      "cell_type": "code",
      "metadata": {
        "id": "FpJOEI9Z_jCX",
        "colab_type": "code",
        "colab": {
          "base_uri": "https://localhost:8080/",
          "height": 235
        },
        "outputId": "26f7e82f-3e67-414a-dbb8-ecfe9b5d832f"
      },
      "source": [
        "#Initialize with all zeros\n",
        "a = np.zeros((2, 2))\n",
        "print(a)\n",
        "#Initialize with ones\n",
        "a = np.ones((2,2))\n",
        "print(a)\n",
        "#Initialize with nothing\n",
        "a = np.empty((2,2))\n",
        "print(a)\n",
        "# Arrange\n",
        "a = np.arange( 10, 30, 5 )\n",
        "print(a)\n",
        "#Identity\n",
        "a = np.identity(5)\n",
        "print(a)"
      ],
      "execution_count": 57,
      "outputs": [
        {
          "output_type": "stream",
          "text": [
            "[[0. 0.]\n",
            " [0. 0.]]\n",
            "[[1. 1.]\n",
            " [1. 1.]]\n",
            "[[1. 1.]\n",
            " [1. 1.]]\n",
            "[10 15 20 25]\n",
            "[[1. 0. 0. 0. 0.]\n",
            " [0. 1. 0. 0. 0.]\n",
            " [0. 0. 1. 0. 0.]\n",
            " [0. 0. 0. 1. 0.]\n",
            " [0. 0. 0. 0. 1.]]\n"
          ],
          "name": "stdout"
        }
      ]
    },
    {
      "cell_type": "markdown",
      "metadata": {
        "id": "M4dQckJYQha4",
        "colab_type": "text"
      },
      "source": [
        "**Copy np array**"
      ]
    },
    {
      "cell_type": "code",
      "metadata": {
        "id": "goRbaXaOQlTV",
        "colab_type": "code",
        "colab": {
          "base_uri": "https://localhost:8080/",
          "height": 35
        },
        "outputId": "17a384cb-7bfc-487a-d6ee-eb8510b4ea66"
      },
      "source": [
        "a = np.array([1,2,3])\n",
        "b = a.copy()\n",
        "b[0] = 100\n",
        "\n",
        "print(a)"
      ],
      "execution_count": 59,
      "outputs": [
        {
          "output_type": "stream",
          "text": [
            "[1 2 3]\n"
          ],
          "name": "stdout"
        }
      ]
    },
    {
      "cell_type": "markdown",
      "metadata": {
        "id": "_Thnfma8AXab",
        "colab_type": "text"
      },
      "source": [
        "**Some Basic properties**"
      ]
    },
    {
      "cell_type": "code",
      "metadata": {
        "id": "R7YcRaUgAapw",
        "colab_type": "code",
        "colab": {
          "base_uri": "https://localhost:8080/",
          "height": 126
        },
        "outputId": "49454255-d17e-4bac-f129-bb4e6652fab9"
      },
      "source": [
        "a = np.empty((2,2))\n",
        "#ndarray.ndim\n",
        "print(a.ndim)\n",
        "#ndarray.shape\n",
        "print(a.shape)\n",
        "#ndarray.size\n",
        "print(a.size)\n",
        "#ndarray.dtype\n",
        "print(a.dtype)\n",
        "#ndarray.itemsize\n",
        "print(a.itemsize)\n",
        "#ndarry.nbytes\n",
        "print(a.nbytes)"
      ],
      "execution_count": 24,
      "outputs": [
        {
          "output_type": "stream",
          "text": [
            "2\n",
            "(2, 2)\n",
            "4\n",
            "float64\n",
            "8\n",
            "32\n"
          ],
          "name": "stdout"
        }
      ]
    },
    {
      "cell_type": "markdown",
      "metadata": {
        "id": "O6gV_t9fLvs0",
        "colab_type": "text"
      },
      "source": [
        "**Shape Manipulation**"
      ]
    },
    {
      "cell_type": "code",
      "metadata": {
        "id": "Az1i5U33L9uS",
        "colab_type": "code",
        "colab": {
          "base_uri": "https://localhost:8080/",
          "height": 126
        },
        "outputId": "29bedc4a-55a3-47ce-8911-eeedc4441c70"
      },
      "source": [
        "a = np.zeros((6,2))\n",
        "print(a)"
      ],
      "execution_count": 18,
      "outputs": [
        {
          "output_type": "stream",
          "text": [
            "[[0. 0.]\n",
            " [0. 0.]\n",
            " [0. 0.]\n",
            " [0. 0.]\n",
            " [0. 0.]\n",
            " [0. 0.]]\n"
          ],
          "name": "stdout"
        }
      ]
    },
    {
      "cell_type": "code",
      "metadata": {
        "id": "hqC4V-oNMnqT",
        "colab_type": "code",
        "colab": {
          "base_uri": "https://localhost:8080/",
          "height": 35
        },
        "outputId": "4d177114-8fb2-405a-c23c-bbc7c4987ae2"
      },
      "source": [
        "a.ravel()  # returns the array, flattened"
      ],
      "execution_count": 15,
      "outputs": [
        {
          "output_type": "execute_result",
          "data": {
            "text/plain": [
              "array([0., 0., 0., 0., 0., 0., 0., 0., 0., 0., 0., 0., 0., 0., 0., 0.])"
            ]
          },
          "metadata": {
            "tags": []
          },
          "execution_count": 15
        }
      ]
    },
    {
      "cell_type": "code",
      "metadata": {
        "id": "zkpmqOPIMtFS",
        "colab_type": "code",
        "colab": {
          "base_uri": "https://localhost:8080/",
          "height": 90
        },
        "outputId": "8584cc97-bf38-4163-dcfd-0a6dde7ee56f"
      },
      "source": [
        "# reshape function\n",
        "a.reshape(4,3)"
      ],
      "execution_count": 19,
      "outputs": [
        {
          "output_type": "execute_result",
          "data": {
            "text/plain": [
              "array([[0., 0., 0.],\n",
              "       [0., 0., 0.],\n",
              "       [0., 0., 0.],\n",
              "       [0., 0., 0.]])"
            ]
          },
          "metadata": {
            "tags": []
          },
          "execution_count": 19
        }
      ]
    },
    {
      "cell_type": "code",
      "metadata": {
        "id": "iETQ82yFNJVB",
        "colab_type": "code",
        "colab": {
          "base_uri": "https://localhost:8080/",
          "height": 54
        },
        "outputId": "ece7eccd-4320-4a15-abff-2e04e35ebff4"
      },
      "source": [
        "#Transpose\n",
        "a.T"
      ],
      "execution_count": 20,
      "outputs": [
        {
          "output_type": "execute_result",
          "data": {
            "text/plain": [
              "array([[0., 0., 0., 0., 0., 0.],\n",
              "       [0., 0., 0., 0., 0., 0.]])"
            ]
          },
          "metadata": {
            "tags": []
          },
          "execution_count": 20
        }
      ]
    },
    {
      "cell_type": "markdown",
      "metadata": {
        "id": "nxAHEIJNObWB",
        "colab_type": "text"
      },
      "source": [
        "**Stacking together different arrays**"
      ]
    },
    {
      "cell_type": "code",
      "metadata": {
        "id": "UfFHym5aOYb2",
        "colab_type": "code",
        "colab": {
          "base_uri": "https://localhost:8080/",
          "height": 181
        },
        "outputId": "849886a9-a845-4375-c757-2c81b58588e9"
      },
      "source": [
        "a = np.random.randint(1,2, size=(3,3))\n",
        "b = np.random.randint(3,4, size=(3,3))\n",
        "c = np.vstack((a,b))\n",
        "print(c)\n",
        "c = np.hstack((a,b))\n",
        "print(c)"
      ],
      "execution_count": 61,
      "outputs": [
        {
          "output_type": "stream",
          "text": [
            "[[1 1 1]\n",
            " [1 1 1]\n",
            " [1 1 1]\n",
            " [3 3 3]\n",
            " [3 3 3]\n",
            " [3 3 3]]\n",
            "[[1 1 1 3 3 3]\n",
            " [1 1 1 3 3 3]\n",
            " [1 1 1 3 3 3]]\n"
          ],
          "name": "stdout"
        }
      ]
    },
    {
      "cell_type": "markdown",
      "metadata": {
        "id": "C7vNELewRLVm",
        "colab_type": "text"
      },
      "source": [
        "**Mathematics**"
      ]
    },
    {
      "cell_type": "code",
      "metadata": {
        "id": "nUg5z7LdRPbu",
        "colab_type": "code",
        "colab": {
          "base_uri": "https://localhost:8080/",
          "height": 54
        },
        "outputId": "2ae01280-2628-4ac2-a21b-1bc1fcd6a50c"
      },
      "source": [
        "a = np.array([1,2,3,4])\n",
        "print(a)\n",
        "# Adding value to all elements\n",
        "a + 2"
      ],
      "execution_count": 62,
      "outputs": [
        {
          "output_type": "stream",
          "text": [
            "[1 2 3 4]\n"
          ],
          "name": "stdout"
        },
        {
          "output_type": "execute_result",
          "data": {
            "text/plain": [
              "array([3, 4, 5, 6])"
            ]
          },
          "metadata": {
            "tags": []
          },
          "execution_count": 62
        }
      ]
    },
    {
      "cell_type": "code",
      "metadata": {
        "id": "5zwS2OpEReYN",
        "colab_type": "code",
        "colab": {
          "base_uri": "https://localhost:8080/",
          "height": 72
        },
        "outputId": "71f67b57-ddc4-4e4e-b9dc-f389e5f36044"
      },
      "source": [
        "b = np.array([1,0,1,0])\n",
        "print(a + b)\n",
        "\n",
        "print(a@b)\n",
        "print(a*b)\n",
        "\n",
        "#Todo: Try multiplication for two dimentional array\n",
        "#np.matmul(a,b)"
      ],
      "execution_count": 33,
      "outputs": [
        {
          "output_type": "stream",
          "text": [
            "[2 2 4 4]\n",
            "4\n",
            "[1 0 3 0]\n"
          ],
          "name": "stdout"
        }
      ]
    },
    {
      "cell_type": "markdown",
      "metadata": {
        "id": "WVGuY85JSp-D",
        "colab_type": "text"
      },
      "source": [
        "**Statistical Functions**"
      ]
    },
    {
      "cell_type": "code",
      "metadata": {
        "id": "p97wSGMtSMyh",
        "colab_type": "code",
        "colab": {
          "base_uri": "https://localhost:8080/",
          "height": 72
        },
        "outputId": "f417b22c-f991-4602-ccbe-670e68993add"
      },
      "source": [
        "stats = np.ones((2,2))\n",
        "print(stats)\n",
        "np.min(stats)\n",
        "np.max(stats)\n",
        "np.sum(stats)"
      ],
      "execution_count": 63,
      "outputs": [
        {
          "output_type": "stream",
          "text": [
            "[[1. 1.]\n",
            " [1. 1.]]\n"
          ],
          "name": "stdout"
        },
        {
          "output_type": "execute_result",
          "data": {
            "text/plain": [
              "4.0"
            ]
          },
          "metadata": {
            "tags": []
          },
          "execution_count": 63
        }
      ]
    },
    {
      "cell_type": "markdown",
      "metadata": {
        "id": "x1SEiGzcUfRy",
        "colab_type": "text"
      },
      "source": [
        "**Indexing, Slicing and Masking**"
      ]
    },
    {
      "cell_type": "code",
      "metadata": {
        "id": "CDFHs0mOUesd",
        "colab_type": "code",
        "colab": {
          "base_uri": "https://localhost:8080/",
          "height": 290
        },
        "outputId": "16b2dd89-8d5c-46cb-bcad-0267ef757b49"
      },
      "source": [
        "#One dimentional\n",
        "a = np.arange(10)\n",
        "print(a)\n",
        "print(a[2])\n",
        "print(a[2:5])\n",
        "print(a[2:5:2])\n",
        "print(a[2:5])\n",
        "for i in a:\n",
        "  print(i)\n",
        "#Todo: create one dimentional array of 20 numbers, in step of 2\n",
        "#Todo: use loop to print all elements from 5 to 15\n",
        "#Todo: use loop to print alternate elements from 5 to 15"
      ],
      "execution_count": 44,
      "outputs": [
        {
          "output_type": "stream",
          "text": [
            "[0 1 2 3 4 5 6 7 8 9]\n",
            "2\n",
            "[2 3 4]\n",
            "[2 4]\n",
            "[2 3 4]\n",
            "0\n",
            "1\n",
            "2\n",
            "3\n",
            "4\n",
            "5\n",
            "6\n",
            "7\n",
            "8\n",
            "9\n"
          ],
          "name": "stdout"
        }
      ]
    },
    {
      "cell_type": "code",
      "metadata": {
        "id": "z9mJXq8RVhEL",
        "colab_type": "code",
        "colab": {
          "base_uri": "https://localhost:8080/",
          "height": 72
        },
        "outputId": "1581cdb7-2258-4d7b-f9c4-f45f4bc55aac"
      },
      "source": [
        "#Multi Dimentional\n",
        "a = np.zeros((5,5))\n",
        "#print(a[start_row: end_row: step,Start_column:End Columns: step])\n",
        "print(a[2:5,:3])"
      ],
      "execution_count": 47,
      "outputs": [
        {
          "output_type": "stream",
          "text": [
            "[[0. 0. 0.]\n",
            " [0. 0. 0.]\n",
            " [0. 0. 0.]]\n"
          ],
          "name": "stdout"
        }
      ]
    },
    {
      "cell_type": "code",
      "metadata": {
        "id": "9A2c_wMPV-J3",
        "colab_type": "code",
        "colab": {
          "base_uri": "https://localhost:8080/",
          "height": 54
        },
        "outputId": "1e5fa825-5bd2-4915-c3e5-d512c8102ae1"
      },
      "source": [
        "#Masking\n",
        "a = np.array([1,2,1,1,1,2,2])\n",
        "print(a>1)\n",
        "print(a[a>1])\n",
        "\n"
      ],
      "execution_count": 64,
      "outputs": [
        {
          "output_type": "stream",
          "text": [
            "[False  True False False False  True  True]\n",
            "[2 2 2]\n"
          ],
          "name": "stdout"
        }
      ]
    },
    {
      "cell_type": "markdown",
      "metadata": {
        "id": "Sp39muWRSeRU",
        "colab_type": "text"
      },
      "source": [
        ""
      ]
    }
  ]
}