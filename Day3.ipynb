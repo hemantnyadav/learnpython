{
  "nbformat": 4,
  "nbformat_minor": 0,
  "metadata": {
    "colab": {
      "name": "Day3",
      "provenance": []
    },
    "kernelspec": {
      "name": "python3",
      "display_name": "Python 3"
    }
  },
  "cells": [
    {
      "cell_type": "markdown",
      "metadata": {
        "id": "Yt726St_pPEA",
        "colab_type": "text"
      },
      "source": [
        "# **Object Oriented Programming in Python**\n",
        "\n",
        "Object-Oriented Programming (OOP) is a programming paradigm where different components of a computer program are modeled after real-world objects. An object is anything that has some characteristics and can perform a function.\n",
        "\n",
        "Consider there scenario of clothing store. Store has different Shirts.\n",
        "\n",
        "Shirts are categorised using following attributes\n",
        "\n",
        "price, fabric,color,sleev, dicsount\n",
        "\n",
        "and some actions\n",
        "\n",
        "chang_price(), change_dicount()\n",
        "\n",
        "\n",
        "It is important to mention here that object-oriented programming is not a language-dependent concept. It is a general programming concept and most of the modern languages, such as Java, C#, C++, and Python, support object-oriented programming.\n"
      ]
    },
    {
      "cell_type": "markdown",
      "metadata": {
        "id": "7Jpz8mY-INge",
        "colab_type": "text"
      },
      "source": [
        "Class \n",
        "\n",
        "Objects\n",
        "\n",
        "Attributes\n",
        "\n",
        "Methods\n",
        "\n",
        "Constructors\n",
        "\n",
        "Class and instance varivale\n",
        "\n",
        "Static method\n",
        "\n",
        "Access Modifiers\n",
        "\n",
        "Inheritance\n",
        "\n",
        "Polymorphism"
      ]
    },
    {
      "cell_type": "markdown",
      "metadata": {
        "id": "cvzABG1C9CQW",
        "colab_type": "text"
      },
      "source": [
        "**Exercise:**\n",
        "\n",
        "Pros of OOP\n",
        "1. \n",
        "2. \n",
        "..\n",
        "\n",
        "Cons of OOP\n",
        "1.  \n",
        "2.\n",
        ".."
      ]
    },
    {
      "cell_type": "markdown",
      "metadata": {
        "id": "9HIOAwAt9Fpo",
        "colab_type": "text"
      },
      "source": [
        "**Class**\n",
        "\n",
        "A class in object-oriented programming serves as a blueprint for the object.\n",
        "The relationship between a class and object can be understood by looking at the relationship between a car and an Baleno."
      ]
    },
    {
      "cell_type": "code",
      "metadata": {
        "id": "_oTb2ESR9dnp",
        "colab_type": "code",
        "colab": {}
      },
      "source": [
        "#In the example below, we create a class named Car with three \n",
        "#attributes: name, make, and model. The car class also contains two methods: \n",
        "#start() and stop().\n",
        "\n",
        "# Creates class Car\n",
        "class Car:\n",
        "    \n",
        "    # create class attributes\n",
        "    name = \"c200\"\n",
        "    make = \"mercedez\"\n",
        "    model = 2008\n",
        "\n",
        "    # create class methods\n",
        "    def start(self):\n",
        "        print (\"Engine started\")\n",
        "\n",
        "    def stop(self):\n",
        "        print (\"Engine switched off\")"
      ],
      "execution_count": 0,
      "outputs": []
    },
    {
      "cell_type": "markdown",
      "metadata": {
        "id": "S-Q-47w1-WU2",
        "colab_type": "text"
      },
      "source": [
        "**Objects**\n",
        "\n",
        "An object is also called an instance; therefore, the process of creating an object of a class is called instantiation. In Python, to create an object of a class we simply need to write the class name followed by opening and closing parenthesis.\n",
        "\n",
        "Let's create an object of the Car class that we created in the last section."
      ]
    },
    {
      "cell_type": "code",
      "metadata": {
        "id": "L6_N_XgP-R0K",
        "colab_type": "code",
        "colab": {
          "base_uri": "https://localhost:8080/",
          "height": 54
        },
        "outputId": "a9614564-2f9a-4133-e0a7-d89b59778653"
      },
      "source": [
        "# Creates car_a object of Car class\n",
        "car_a = Car()\n",
        "\n",
        "# Creates car_b object of car class\n",
        "car_b = Car()\n",
        "\n",
        "#check type of varible\n",
        "print(type(car_b))\n",
        "\n",
        "#Call a method\n",
        "car_b.start()"
      ],
      "execution_count": 4,
      "outputs": [
        {
          "output_type": "stream",
          "text": [
            "<class '__main__.Car'>\n",
            "Engine started\n"
          ],
          "name": "stdout"
        }
      ]
    },
    {
      "cell_type": "markdown",
      "metadata": {
        "id": "PQZZTuwr_SvG",
        "colab_type": "text"
      },
      "source": [
        "**Class vs Instance Attributes**\n",
        "\n",
        "Attributes can be broadly categorized into two types: Class attributes and Instance attributes.\n",
        "\n",
        "Class attributes are shared by all the objects of a class while instance attributes are the exclusive property of the instance.\n",
        "\n",
        "Instance attributes are declared inside any method while class attributes are declared outside of any method."
      ]
    },
    {
      "cell_type": "code",
      "metadata": {
        "id": "W6lEvatS_n98",
        "colab_type": "code",
        "colab": {}
      },
      "source": [
        "# the instance attributes are referred using the self, \n",
        "# while class attributes are referred by the class name.\n",
        "\n",
        "class Car:\n",
        "\n",
        "    # create class attributes\n",
        "    car_count = 0\n",
        "\n",
        "    # create class methods\n",
        "    def start(self, name, make, model):\n",
        "        print (\"Engine started \"+name)\n",
        "        self.name = name\n",
        "        self.make = make\n",
        "        self.model = model\n",
        "        Car.car_count += 1"
      ],
      "execution_count": 0,
      "outputs": []
    },
    {
      "cell_type": "code",
      "metadata": {
        "id": "JS8BBmfZAQxu",
        "colab_type": "code",
        "colab": {
          "base_uri": "https://localhost:8080/",
          "height": 90
        },
        "outputId": "387aa078-7477-4436-b5bc-015ff6b654dd"
      },
      "source": [
        "## Static Counter\n",
        "car_a = Car()\n",
        "car_b = Car()\n",
        "car_a.start(\"Baleno\", \"Maruti\", 2015)\n",
        "car_b.start(\"Ignis\", \"Maruti\", 2015)\n",
        "print(car_b.name)\n",
        "print(car_a.car_count)"
      ],
      "execution_count": 47,
      "outputs": [
        {
          "output_type": "stream",
          "text": [
            "Engine started Baleno\n",
            "Engine started Ignis\n",
            "Ignis\n",
            "2\n"
          ],
          "name": "stdout"
        }
      ]
    },
    {
      "cell_type": "markdown",
      "metadata": {
        "id": "2sjQkNPNDMXl",
        "colab_type": "text"
      },
      "source": [
        "**Static Methods**\n",
        "\n",
        "Specify the @staticmethod descriptor before the name of the method.\n",
        "\n",
        "It is important to mention that static methods can only access class attributes in Python."
      ]
    },
    {
      "cell_type": "code",
      "metadata": {
        "id": "RsAWUUZ7DaWg",
        "colab_type": "code",
        "colab": {
          "base_uri": "https://localhost:8080/",
          "height": 35
        },
        "outputId": "581f0ef3-b15b-4b39-cff0-6e37179949d7"
      },
      "source": [
        "class Car:\n",
        "\n",
        "    # create class attributes\n",
        "    car_count = 0\n",
        "\n",
        "    # create class methods\n",
        "    def start(self, name, make, model):\n",
        "        print (\"Engine started \"+name)\n",
        "        self.name = name\n",
        "        self.make = make\n",
        "        self.model = model\n",
        "        Car.car_count += 1\n",
        "    @staticmethod\n",
        "    def get_class_details():\n",
        "        #c.start(\"Dzire\", \"Maruti\", 2009)\n",
        "        #print(c.name)\n",
        "        print (\"This is a car class\")\n",
        "\n",
        "\n",
        "Car.get_class_details()\n",
        "#Car.get_class_details(Car())"
      ],
      "execution_count": 49,
      "outputs": [
        {
          "output_type": "stream",
          "text": [
            "This is a car class\n"
          ],
          "name": "stdout"
        }
      ]
    },
    {
      "cell_type": "markdown",
      "metadata": {
        "id": "jWAXjnUTEbAL",
        "colab_type": "text"
      },
      "source": [
        "**Returning Multiple Values from a Method**\n",
        "\n",
        "One of the best features of the Python language is the ability of class methods to return multiple values.\n",
        "\n",
        "\n",
        "\n"
      ]
    },
    {
      "cell_type": "code",
      "metadata": {
        "id": "4q5P41onEgZW",
        "colab_type": "code",
        "colab": {
          "base_uri": "https://localhost:8080/",
          "height": 35
        },
        "outputId": "467e9407-d5b4-4334-d02b-34d0a245dd70"
      },
      "source": [
        "class Car:\n",
        "\n",
        "    # create class attributes\n",
        "    car_count = 0\n",
        "\n",
        "    def __init__(self,m):\n",
        "      self.model = m\n",
        "    # create class methods\n",
        "    def start(self, name, make, model):\n",
        "        print (\"Engine started \"+name)\n",
        "        self.name = name\n",
        "        self.make = make\n",
        "        self.model = model\n",
        "        Car.car_count += 1\n",
        "    @staticmethod\n",
        "    def get_class_details(c):\n",
        "        #c.start(\"Dzire\", \"Maruti\", 2009)\n",
        "        #print(c.name)\n",
        "        print (\"This is a car class\")\n",
        "    @staticmethod\n",
        "    def get_squares(a, b):\n",
        "        return a+b, a*b\n",
        "v1,v2 = Car.get_squares(3, 5)\n",
        "print(v1,v2)"
      ],
      "execution_count": 50,
      "outputs": [
        {
          "output_type": "stream",
          "text": [
            "8 15\n"
          ],
          "name": "stdout"
        }
      ]
    },
    {
      "cell_type": "markdown",
      "metadata": {
        "id": "FvF_UOI0E-W3",
        "colab_type": "text"
      },
      "source": [
        "**Constructors**\n",
        "A constructor is a special method that is called by default whenever you create an object of a class.\n",
        "\n",
        "To create a constructor, you have to create a method with keyword \n",
        "\\_\\_init\\_\\_"
      ]
    },
    {
      "cell_type": "code",
      "metadata": {
        "id": "WbgJqfUlFXlc",
        "colab_type": "code",
        "colab": {}
      },
      "source": [
        "class Car:\n",
        "\n",
        "    # create class attributes\n",
        "    car_count = 0\n",
        "\n",
        "    # create class methods\n",
        "    def __init__(self,m):\n",
        "        self.model = m\n",
        "        Car.car_count +=1\n",
        "        #print(Car.car_count)\n",
        "#car_a = Car()\n",
        "\n",
        "#car_b = Car()\n",
        "#car_c = Car()\n",
        "#rint(Car.car_count)"
      ],
      "execution_count": 0,
      "outputs": []
    },
    {
      "cell_type": "code",
      "metadata": {
        "id": "ToBFxcp0QR4k",
        "colab_type": "code",
        "colab": {
          "base_uri": "https://localhost:8080/",
          "height": 35
        },
        "outputId": "31cafef2-a4b8-4e08-f5a4-a76d80e8c85c"
      },
      "source": [
        "car_d = Car(\"Dzire\")\n",
        "print(car_d.model)"
      ],
      "execution_count": 56,
      "outputs": [
        {
          "output_type": "stream",
          "text": [
            "Dzire\n"
          ],
          "name": "stdout"
        }
      ]
    },
    {
      "cell_type": "markdown",
      "metadata": {
        "id": "mvMP0ueNFzLy",
        "colab_type": "text"
      },
      "source": [
        "**Access Modifiers**\n",
        "\n",
        "public: default\n",
        "\n",
        "private: using \\_\\_\n",
        "\n",
        "protected: using \\_"
      ]
    },
    {
      "cell_type": "code",
      "metadata": {
        "id": "ygAZATF8GAI0",
        "colab_type": "code",
        "colab": {}
      },
      "source": [
        "class Car:\n",
        "    \n",
        "    def __init__(self):\n",
        "        print (\"Engine started\")\n",
        "    def start(self):\n",
        "        self.name = \"corolla\"\n",
        "        self.__make = \"toyota\"\n",
        "        self._model = 1999\n"
      ],
      "execution_count": 0,
      "outputs": []
    },
    {
      "cell_type": "code",
      "metadata": {
        "id": "rRIpkLAwGFEe",
        "colab_type": "code",
        "colab": {
          "base_uri": "https://localhost:8080/",
          "height": 54
        },
        "outputId": "d0397b1a-de3a-4409-df7a-c5e1b71cda38"
      },
      "source": [
        "car_a = Car()\n",
        "print(car_a.name)"
      ],
      "execution_count": 60,
      "outputs": [
        {
          "output_type": "stream",
          "text": [
            "Engine started\n",
            "corolla\n"
          ],
          "name": "stdout"
        }
      ]
    },
    {
      "cell_type": "code",
      "metadata": {
        "id": "XxrAb2oLGHKV",
        "colab_type": "code",
        "colab": {}
      },
      "source": [
        "#print(car_a.make)"
      ],
      "execution_count": 0,
      "outputs": []
    },
    {
      "cell_type": "code",
      "metadata": {
        "id": "uXr5D4MCGN0s",
        "colab_type": "code",
        "colab": {}
      },
      "source": [
        "#print(car_a.model)"
      ],
      "execution_count": 0,
      "outputs": []
    },
    {
      "cell_type": "markdown",
      "metadata": {
        "id": "kZ_1uS1rGatq",
        "colab_type": "text"
      },
      "source": [
        "**Inheritance**\n",
        "\n",
        "The basic idea of inheritance in object-oriented programming is that a class can inherit the characteristics of another class. The class which inherits another class is called the child class or derived class, and the class which is inherited by another class is called parent or base class."
      ]
    },
    {
      "cell_type": "code",
      "metadata": {
        "id": "ENVdU9-vGmHP",
        "colab_type": "code",
        "colab": {
          "base_uri": "https://localhost:8080/",
          "height": 35
        },
        "outputId": "db1bb376-04d3-46d2-b1c9-ed47acff93e0"
      },
      "source": [
        "# Create Class Vehicle\n",
        "class Vehicle:\n",
        "    def vehicle_method(self):\n",
        "        print(\"This is parent Vehicle class method\")\n",
        "\n",
        "# Create Class Car that inherits Vehicle\n",
        "class Car(Vehicle):\n",
        "    def car_method(self):\n",
        "        print(\"This is child Car class method\")\n",
        "car_a = Car()\n",
        "car_a.vehicle_method() # Calling parent class method"
      ],
      "execution_count": 66,
      "outputs": [
        {
          "output_type": "stream",
          "text": [
            "This is parent Vehicle class method\n"
          ],
          "name": "stdout"
        }
      ]
    },
    {
      "cell_type": "code",
      "metadata": {
        "id": "lceiK-U0G0D1",
        "colab_type": "code",
        "colab": {
          "base_uri": "https://localhost:8080/",
          "height": 54
        },
        "outputId": "874ce0e6-9744-41f0-cf71-047cc557bf0a"
      },
      "source": [
        "##Parent is having multiple class\n",
        "# Create Class Vehicle\n",
        "class Vehicle:\n",
        "    def vehicle_method(self):\n",
        "        print(\"This is parent Vehicle class method\")\n",
        "\n",
        "# Create Class Car that inherits Vehicle\n",
        "class Car(Vehicle):\n",
        "    def car_method(self):\n",
        "        print(\"This is child Car class method\")\n",
        "\n",
        "# Create Class Cycle that inherits Vehicle\n",
        "class Cycle(Vehicle):\n",
        "    def cycleMethod(self):\n",
        "        print(\"This is child Cycle class method\")\n",
        "\n",
        "car_a = Car()\n",
        "car_a.vehicle_method() # Calling parent class method\n",
        "car_b = Cycle()\n",
        "car_b.vehicle_method() # Calling parent class method"
      ],
      "execution_count": 34,
      "outputs": [
        {
          "output_type": "stream",
          "text": [
            "This is parent Vehicle class method\n",
            "This is parent Vehicle class method\n"
          ],
          "name": "stdout"
        }
      ]
    },
    {
      "cell_type": "code",
      "metadata": {
        "id": "5-GUg8I4HBLL",
        "colab_type": "code",
        "colab": {
          "base_uri": "https://localhost:8080/",
          "height": 54
        },
        "outputId": "9ce8e31e-dc76-4b1e-a1bc-02cff5c3fc34"
      },
      "source": [
        "## Child is having multiple parents\n",
        "\n",
        "class Camera:\n",
        "    def camera_method(self):\n",
        "        print(\"This is parent Camera class method\")\n",
        "\n",
        "class Radio:\n",
        "    def radio_method(self):\n",
        "        print(\"This is parent Radio class method\")\n",
        "\n",
        "class CellPhone(Camera, Radio):\n",
        "     def cell_phone_method(self):\n",
        "        print(\"This is child CellPhone class method\")\n",
        "\n",
        "cell_phone_a = CellPhone()\n",
        "cell_phone_a.camera_method()\n",
        "cell_phone_a.radio_method()"
      ],
      "execution_count": 35,
      "outputs": [
        {
          "output_type": "stream",
          "text": [
            "This is parent Camera class method\n",
            "This is parent Radio class method\n"
          ],
          "name": "stdout"
        }
      ]
    },
    {
      "cell_type": "markdown",
      "metadata": {
        "id": "9rEx2hAMHPu_",
        "colab_type": "text"
      },
      "source": [
        "**Method Overloading**\n",
        "\n",
        "Method overloading refers to the property of a method to behave in different ways depending upon the number or types of the parameters."
      ]
    },
    {
      "cell_type": "code",
      "metadata": {
        "id": "Fds1zO8vHfMO",
        "colab_type": "code",
        "colab": {}
      },
      "source": [
        "# Creates class Car\n",
        "class Car:\n",
        "   def start(self, a, b=None):\n",
        "        if b is not None:\n",
        "            print (a + b)\n",
        "        else:\n",
        "            print (a)\n"
      ],
      "execution_count": 0,
      "outputs": []
    },
    {
      "cell_type": "code",
      "metadata": {
        "id": "RAVJRBt0Hi0E",
        "colab_type": "code",
        "colab": {
          "base_uri": "https://localhost:8080/",
          "height": 54
        },
        "outputId": "be40815e-86cb-4a7a-e063-7dd472b41401"
      },
      "source": [
        "#First form\n",
        "car_a = Car()\n",
        "car_a.start(10)\n",
        "\n",
        "#Second form\n",
        "car_a.start(10,20)"
      ],
      "execution_count": 68,
      "outputs": [
        {
          "output_type": "stream",
          "text": [
            "10\n",
            "30\n"
          ],
          "name": "stdout"
        }
      ]
    },
    {
      "cell_type": "markdown",
      "metadata": {
        "id": "Mt0hsF9RHu_W",
        "colab_type": "text"
      },
      "source": [
        "**Method Overriding**\n",
        "\n",
        "Method overriding refers to having a method with the same name in the child class as in the parent class. "
      ]
    },
    {
      "cell_type": "code",
      "metadata": {
        "id": "qF17ox8uHuOE",
        "colab_type": "code",
        "colab": {}
      },
      "source": [
        "# Create Class Vehicle\n",
        "class Vehicle:\n",
        "    def print_details(self):\n",
        "        print(\"This is parent Vehicle class method\")\n",
        "\n",
        "# Create Class Car that inherits Vehicle\n",
        "class Car(Vehicle):\n",
        "    def print_details(self):\n",
        "        print(\"This is child Car class method\")\n",
        "\n",
        "# Create Class Cycle that inherits Vehicle\n",
        "class Cycle(Vehicle):\n",
        "    def print_details(self):\n",
        "        print(\"This is child Cycle class method\")"
      ],
      "execution_count": 0,
      "outputs": []
    },
    {
      "cell_type": "code",
      "metadata": {
        "id": "cERstqSNH6Ge",
        "colab_type": "code",
        "colab": {
          "base_uri": "https://localhost:8080/",
          "height": 72
        },
        "outputId": "8d822bca-5b95-4bbe-f85d-73b806184d00"
      },
      "source": [
        "car_a = Vehicle()\n",
        "car_a.print_details()\n",
        "\n",
        "car_b = Car()\n",
        "car_b.print_details()\n",
        "\n",
        "car_c = Cycle()\n",
        "car_c.print_details()"
      ],
      "execution_count": 71,
      "outputs": [
        {
          "output_type": "stream",
          "text": [
            "This is parent Vehicle class method\n",
            "This is child Car class method\n",
            "This is child Cycle class method\n"
          ],
          "name": "stdout"
        }
      ]
    }
  ]
}